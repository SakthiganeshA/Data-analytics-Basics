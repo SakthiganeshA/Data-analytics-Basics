{
  "nbformat": 4,
  "nbformat_minor": 0,
  "metadata": {
    "colab": {
      "provenance": [],
      "include_colab_link": true
    },
    "kernelspec": {
      "name": "python3",
      "display_name": "Python 3"
    },
    "language_info": {
      "name": "python"
    }
  },
  "cells": [
    {
      "cell_type": "markdown",
      "metadata": {
        "id": "view-in-github",
        "colab_type": "text"
      },
      "source": [
        "<a href=\"https://colab.research.google.com/github/SakthiganeshA/Data-analytics-Basics/blob/main/completed_cheatsheet(1).ipynb\" target=\"_parent\"><img src=\"https://colab.research.google.com/assets/colab-badge.svg\" alt=\"Open In Colab\"/></a>"
      ]
    },
    {
      "cell_type": "code",
      "execution_count": null,
      "metadata": {
        "colab": {
          "base_uri": "https://localhost:8080/"
        },
        "id": "LESwsbR8VQn1",
        "outputId": "56ed7e04-9353-412b-ee75-2d90a0bdaecb"
      },
      "outputs": [
        {
          "output_type": "stream",
          "name": "stdout",
          "text": [
            "102\n",
            "98\n",
            "200\n",
            "50.0\n",
            "50\n"
          ]
        }
      ],
      "source": [
        "a = 100\n",
        "b = 2\n",
        "\n",
        "# Add\n",
        "print(a + b)\n",
        "\n",
        "# Sub\n",
        "print(a - b)\n",
        "\n",
        "# Multiply\n",
        "print(a * b)\n",
        "\n",
        "# Divide\n",
        "print(a / b)\n",
        "\n",
        "# Floor division\n",
        "print(a // b)"
      ]
    },
    {
      "cell_type": "code",
      "source": [],
      "metadata": {
        "id": "fG7BhnmoNnEt"
      },
      "execution_count": null,
      "outputs": []
    },
    {
      "cell_type": "code",
      "source": [
        "# Increment operation\n",
        "i = 1\n",
        "while i < 10:\n",
        "  print(i)\n",
        "  i += 1"
      ],
      "metadata": {
        "colab": {
          "base_uri": "https://localhost:8080/"
        },
        "id": "92uxny5DXZGQ",
        "outputId": "02b620de-803f-4dc0-89d7-03b34b372a66"
      },
      "execution_count": null,
      "outputs": [
        {
          "output_type": "stream",
          "name": "stdout",
          "text": [
            "1\n",
            "2\n",
            "3\n",
            "4\n",
            "5\n",
            "6\n",
            "7\n",
            "8\n",
            "9\n"
          ]
        }
      ]
    },
    {
      "cell_type": "code",
      "source": [
        "i = 1\n",
        "while i < 10:\n",
        "  print(i)\n",
        "  if i == 5:\n",
        "    break\n",
        "  i += 1"
      ],
      "metadata": {
        "colab": {
          "base_uri": "https://localhost:8080/"
        },
        "id": "xspNYk-PXh0v",
        "outputId": "74d118d9-b385-4d00-cba3-1233ed070646"
      },
      "execution_count": null,
      "outputs": [
        {
          "output_type": "stream",
          "name": "stdout",
          "text": [
            "1\n",
            "2\n",
            "3\n",
            "4\n",
            "5\n"
          ]
        }
      ]
    },
    {
      "cell_type": "code",
      "source": [
        "# Sets\n",
        "set1 = {1, 2, 3}\n",
        "print(\"Set1:\", set1)\n",
        "\n",
        "print(\"First element:\", set1.pop())\n",
        "print(\"Set1:\", set1)\n",
        "\n",
        "set1.add(4)\n",
        "print(\"Set1:\", set1)\n",
        "\n",
        "set1.remove(3)\n",
        "print(\"Set1:\", set1)\n",
        "\n",
        "set2 = {3, 4, 5, 6, 7}\n",
        "print(\"Set1 U Set2:\", set1 | set2)\n",
        "\n",
        "print(\"Set1 n Set2:\", set1 & set2)\n",
        "\n",
        "print(\"Set1 - Set2:\", set1 - set2)\n",
        "\n"
      ],
      "metadata": {
        "colab": {
          "base_uri": "https://localhost:8080/"
        },
        "id": "mb9x5eAfYGaJ",
        "outputId": "f9b7924b-33e6-4257-a361-9e343441db94"
      },
      "execution_count": null,
      "outputs": [
        {
          "output_type": "stream",
          "name": "stdout",
          "text": [
            "Set1: {1, 2, 3}\n",
            "First element: 1\n",
            "Set1: {2, 3}\n",
            "Set1: {2, 3, 4}\n",
            "Set1: {2, 4}\n",
            "Set1 U Set2: {2, 3, 4, 5, 6, 7}\n",
            "Set1 n Set2: {4}\n",
            "Set1 - Set2: {2}\n"
          ]
        }
      ]
    },
    {
      "cell_type": "code",
      "source": [
        "# Types\n",
        "a = 10\n",
        "print(\"Type of a:\", type(a))\n",
        "\n",
        "b = \"Hello World\"\n",
        "print(\"Type of b:\", type(b))\n",
        "\n",
        "c = True\n",
        "print(\"Type of c:\", type(c))\n",
        "\n",
        "d = 10.245\n",
        "print(\"Type of d:\", type(d))"
      ],
      "metadata": {
        "colab": {
          "base_uri": "https://localhost:8080/"
        },
        "id": "WCZ_sz_ZYb7x",
        "outputId": "df6ec32b-6b0f-4411-8354-43af7bc205ed"
      },
      "execution_count": null,
      "outputs": [
        {
          "output_type": "stream",
          "name": "stdout",
          "text": [
            "Type of a: <class 'int'>\n",
            "Type of b: <class 'str'>\n",
            "Type of c: <class 'bool'>\n",
            "Type of d: <class 'float'>\n"
          ]
        }
      ]
    },
    {
      "cell_type": "code",
      "source": [
        "# List and Tuples\n",
        "list1 = [1, 2, 3, 4, 5]\n",
        "print(\"List1:\", list1)\n",
        "\n",
        "tuple1 = (6, 7, 8, 9, 10)\n",
        "print(\"Tuple1:\", tuple1)"
      ],
      "metadata": {
        "colab": {
          "base_uri": "https://localhost:8080/"
        },
        "id": "fMqK8jT4YnWI",
        "outputId": "82f97e1c-4c46-4663-c4e9-5bf34108c1c9"
      },
      "execution_count": null,
      "outputs": [
        {
          "output_type": "stream",
          "name": "stdout",
          "text": [
            "List1: [1, 2, 3, 4, 5]\n",
            "Tuple1: (6, 7, 8, 9, 10)\n"
          ]
        }
      ]
    },
    {
      "cell_type": "code",
      "source": [
        "Alphabets = [\"a\", \"b\", \"c\", \"d\", \"e\"]\n",
        "for x in Alphabets:\n",
        "  print(x)\n",
        "  if x == \"c\":\n",
        "    break"
      ],
      "metadata": {
        "colab": {
          "base_uri": "https://localhost:8080/"
        },
        "id": "RX7pKk7BY1rX",
        "outputId": "263ee284-567e-4a5d-b348-ae9dd8c40194"
      },
      "execution_count": null,
      "outputs": [
        {
          "output_type": "stream",
          "name": "stdout",
          "text": [
            "a\n",
            "b\n",
            "c\n"
          ]
        }
      ]
    },
    {
      "cell_type": "code",
      "source": [
        "Myname = \"Sakthiganesh\"\n",
        "print(Myname[2:-3])"
      ],
      "metadata": {
        "colab": {
          "base_uri": "https://localhost:8080/"
        },
        "id": "aSgx_5SGZS-K",
        "outputId": "760292e2-33f2-47b0-ee4e-ed5a87b18da3"
      },
      "execution_count": null,
      "outputs": [
        {
          "output_type": "stream",
          "name": "stdout",
          "text": [
            "kthigan\n"
          ]
        }
      ]
    },
    {
      "cell_type": "code",
      "source": [],
      "metadata": {
        "id": "YpZgp8eJR7Kw"
      },
      "execution_count": null,
      "outputs": []
    },
    {
      "cell_type": "code",
      "source": [
        "import pandas as pd\n",
        "from tabulate import tabulate\n",
        "import traceback\n",
        "import numpy as np\n",
        "import matplotlib.pyplot as plt\n",
        "from requests import get\n",
        "import requests\n",
        "import os"
      ],
      "metadata": {
        "id": "gx2xyHZkNo-q"
      },
      "execution_count": null,
      "outputs": []
    },
    {
      "cell_type": "code",
      "source": [
        "# empty list\n",
        "lst_names = []\n",
        "# list with some string values in it\n",
        "lst_cities = [\"Bangalore\", \"Chennai\", \"SFO\", \"Beijing\"]\n",
        "# append to existing list\n",
        "lst_cities.append(\"NYC\")\n",
        "lst_cities.append(\"KVP\")\n",
        "# list with some integer values\n",
        "lst_age = [10, 20]\n",
        "# append an integer to the existing list\n",
        "lst_age.append(30)\n",
        "# iterate each value in a list\n",
        "for val in lst_cities:\n",
        " print(val)\n",
        "# check if a value exists in a list\n",
        "if \"SFO\" in lst_cities:\n",
        " print(\"yes\")\n",
        "else:\n",
        " print(\"no\")                          #clarification needed"
      ],
      "metadata": {
        "colab": {
          "base_uri": "https://localhost:8080/"
        },
        "id": "jpZ0f5k6R8yz",
        "outputId": "272318d3-2132-49d6-bbc5-086af70ee7e9"
      },
      "execution_count": null,
      "outputs": [
        {
          "output_type": "stream",
          "name": "stdout",
          "text": [
            "Bangalore\n",
            "Chennai\n",
            "SFO\n",
            "Beijing\n",
            "NYC\n",
            "KVP\n",
            "yes\n"
          ]
        }
      ]
    },
    {
      "cell_type": "code",
      "source": [
        "lst_pets = [\"dog\", \"Lion\"]\n",
        "for i, value in enumerate(lst_pets):\n",
        " print(f\"At index {i}, the value in the list is {value}\")"
      ],
      "metadata": {
        "colab": {
          "base_uri": "https://localhost:8080/"
        },
        "id": "XkOwpw_USuui",
        "outputId": "cc650dc4-a68b-4364-ba29-c88236ee34cc"
      },
      "execution_count": null,
      "outputs": [
        {
          "output_type": "stream",
          "name": "stdout",
          "text": [
            "At index 0, the value in the list is dog\n",
            "At index 1, the value in the list is Lion\n"
          ]
        }
      ]
    },
    {
      "cell_type": "code",
      "source": [
        "lst_pets = [\"dog\", \"Lion\"]\n",
        "for i, value in enumerate(lst_pets):\n",
        " print(f\"At index {i}, the value in the list is {len(value)}\")"
      ],
      "metadata": {
        "colab": {
          "base_uri": "https://localhost:8080/"
        },
        "id": "Utg2WQLJS8a5",
        "outputId": "06123cff-5ea0-4f51-ba1d-3bbaa88f6385"
      },
      "execution_count": null,
      "outputs": [
        {
          "output_type": "stream",
          "name": "stdout",
          "text": [
            "At index 0, the value in the list is 3\n",
            "At index 1, the value in the list is 4\n"
          ]
        }
      ]
    },
    {
      "cell_type": "code",
      "source": [
        "# empty set\n",
        "set_names = ()\n",
        "# Set with some string values in it\n",
        "set_cities = [\"Bangalore\", \"Chennai\", \"SFO\", \"Beijing\"]\n",
        "# append to existing list\n",
        "set_cities.append(\"TVL\")\n",
        "# list with some integer values\n",
        "set_age = [10, 20]\n",
        "# append an integer to the existing list\n",
        "set_age.append(30)\n",
        "print(set_cities)\n",
        "print(set_age)"
      ],
      "metadata": {
        "colab": {
          "base_uri": "https://localhost:8080/"
        },
        "id": "mGgy15--TKyy",
        "outputId": "fb7aa452-0937-4fd8-a863-86b304764f48"
      },
      "execution_count": null,
      "outputs": [
        {
          "output_type": "stream",
          "name": "stdout",
          "text": [
            "['Bangalore', 'Chennai', 'SFO', 'Beijing', 'TVL']\n",
            "[10, 20, 30]\n"
          ]
        }
      ]
    },
    {
      "cell_type": "code",
      "source": [
        "# empty set\n",
        "set_names = ()\n",
        "# Set with some string values in it\n",
        "set_cities = [\"Bangalore\", \"Chennai\", \"SFO\", \"Beijing\"]\n",
        "# append to existing list\n",
        "set_cities.append(\"NYC\")\n",
        "# list with some integer values\n",
        "set_age = [10, 20]\n",
        "# append an integer to the existing list\n",
        "set_age.append(30)\n",
        "print(set_cities)\n",
        "print(set_age)\n",
        "set_cities.append(\"TVL\")\n",
        "set_age.append(set_cities)\n",
        "print(set_age)\n",
        "print(set_cities)"
      ],
      "metadata": {
        "colab": {
          "base_uri": "https://localhost:8080/"
        },
        "id": "9qKLFDMZUmvd",
        "outputId": "404de210-49dc-41f2-b459-5c41434efb48"
      },
      "execution_count": null,
      "outputs": [
        {
          "output_type": "stream",
          "name": "stdout",
          "text": [
            "['Bangalore', 'Chennai', 'SFO', 'Beijing', 'NYC']\n",
            "[10, 20, 30]\n",
            "[10, 20, 30, ['Bangalore', 'Chennai', 'SFO', 'Beijing', 'NYC', 'TVL']]\n",
            "['Bangalore', 'Chennai', 'SFO', 'Beijing', 'NYC', 'TVL']\n"
          ]
        }
      ]
    },
    {
      "cell_type": "code",
      "source": [
        "# declare dictionary\n",
        "dict_data = {}\n",
        "# insert a empty list into the dictionary\n",
        "dict_data['pet'] = []\n",
        "# append/add a list of dict to the list\n",
        "dict_data['pet'].append({\n",
        "   'name': 'Dog',\n",
        "   'website': 'dog.com',\n",
        "   'from': 'San Francisco'\n",
        "})\n",
        "dict_data['pet'].append({\n",
        "   'name': 'Cat',\n",
        "   'website': 'hellokitty.com',\n",
        "   'from': 'Seattle'\n",
        "})\n",
        "print(dict_data)"
      ],
      "metadata": {
        "colab": {
          "base_uri": "https://localhost:8080/"
        },
        "id": "GY6yqZudVC8h",
        "outputId": "dcc72913-015c-434f-d61f-fb48f2df36fa"
      },
      "execution_count": null,
      "outputs": [
        {
          "output_type": "stream",
          "name": "stdout",
          "text": [
            "{'pet': [{'name': 'Dog', 'website': 'dog.com', 'from': 'San Francisco'}, {'name': 'Cat', 'website': 'hellokitty.com', 'from': 'Seattle'}]}\n"
          ]
        }
      ]
    },
    {
      "cell_type": "code",
      "source": [
        "# list having different pet types\n",
        "lst_pet_types = [\"cat\", \"dog\", \"horse\"]\n",
        "# returns number of elements in the list\n",
        "c_pet_types = len(lst_pet_types)\n",
        "# prints 3\n",
        "print(f\"# pet types: {c_pet_types}\")\n",
        "# Using len() for dictionary\n",
        "dict_pets = {\"name\": \"dog\", \"age\": 2}\n",
        "# returns number of keys in the dictionary\n",
        "c_pets = len(dict_pets)\n",
        "# prints 2\n",
        "print(f\"# pets: {c_pets}\")\n",
        "dict_pets = {\"pets\": [{\"name\": \"dog\", \"age\": 2}, {\"name\": \"dog\", \"age\": 2}]}\n",
        "dict_p_h = {\"pets\": [{\"name\": \"dog\", \"age\": 2}, {\"name\": \"dog\", \"age\": 2}],\n",
        "           \"persons\": [{\"name\": \"ram\", \"age\": 12}, {\"name\": \"kumaran\", \"age\": 11}]}\n",
        "# returns number of keys in the dictionary\n",
        "c_pets, c_humans = len(dict_pets), len(dict_p_h)\n",
        "# prints 1\n",
        "print(f\"# pets: {c_pets} ; # humans: {c_humans}\")\n",
        "# get only keys from the dictionary\n",
        "lst_keys = [*dict_p_h]\n",
        "# get only values from the dictionary\n",
        "lst_values = [*dict_p_h.values()]\n",
        "# prints\n",
        "print(f\"# keys: {len(lst_keys)} | # values: {len(lst_values)}\")\n",
        "print(f\"keys: {lst_keys} | values: {lst_values}\")"
      ],
      "metadata": {
        "colab": {
          "base_uri": "https://localhost:8080/"
        },
        "id": "DdS_fZwcWQv-",
        "outputId": "bc5d7bfc-dccf-47d8-e7c1-8cca942a53df"
      },
      "execution_count": null,
      "outputs": [
        {
          "output_type": "stream",
          "name": "stdout",
          "text": [
            "# pet types: 3\n",
            "# pets: 2\n",
            "# pets: 1 ; # humans: 2\n",
            "# keys: 2 | # values: 2\n",
            "keys: ['pets', 'persons'] | values: [[{'name': 'dog', 'age': 2}, {'name': 'dog', 'age': 2}], [{'name': 'ram', 'age': 12}, {'name': 'kumaran', 'age': 11}]]\n"
          ]
        }
      ]
    },
    {
      "cell_type": "code",
      "source": [
        "txt = \" \tMoscow \t\"\n",
        "str_clean = txt.strip()\n",
        "print(f\"From weather report, {str_clean} is too cold most of the times\")"
      ],
      "metadata": {
        "colab": {
          "base_uri": "https://localhost:8080/"
        },
        "id": "c8DK0yX9Wg9q",
        "outputId": "96435059-7016-4699-c568-daec4a03fad7"
      },
      "execution_count": null,
      "outputs": [
        {
          "output_type": "stream",
          "name": "stdout",
          "text": [
            "From weather report, Moscow is too cold most of the times\n"
          ]
        }
      ]
    },
    {
      "cell_type": "code",
      "source": [
        "txt = \" \tMoscow111112222\t\"\n",
        "str_clean = txt.strip(\"12\")\n",
        "print(f\"From weather report, {str_clean} is too cold most of the times\")               #clarification needed"
      ],
      "metadata": {
        "colab": {
          "base_uri": "https://localhost:8080/"
        },
        "id": "3JcUHY6BXGrx",
        "outputId": "8efcbac3-b26d-4062-a241-5d1046bacc62"
      },
      "execution_count": null,
      "outputs": [
        {
          "output_type": "stream",
          "name": "stdout",
          "text": [
            "From weather report,  \tMoscow111112222\t is too cold most of the times\n"
          ]
        }
      ]
    },
    {
      "cell_type": "code",
      "source": [
        "lst_items = ['rambo','dog','chennai']\n",
        "# joins elements of lst_items by delimiter ','\n",
        "str = ','.join(lst_items)\n",
        "# prints -> rambo,dog,chennai\n",
        "print(str)"
      ],
      "metadata": {
        "colab": {
          "base_uri": "https://localhost:8080/"
        },
        "id": "wpanPDavYiZA",
        "outputId": "53f5f294-0250-40c6-88ae-541d0dedcdb1"
      },
      "execution_count": null,
      "outputs": [
        {
          "output_type": "stream",
          "name": "stdout",
          "text": [
            "rambo,dog,chennai\n"
          ]
        }
      ]
    },
    {
      "cell_type": "code",
      "source": [
        "lst_items = ['rambo','dog','chennai']\n",
        "# joins elements of lst_items by delimiter ','\n",
        "str = ' and '.join(lst_items)\n",
        "print(str)"
      ],
      "metadata": {
        "colab": {
          "base_uri": "https://localhost:8080/"
        },
        "id": "6CW1HsfTYo8B",
        "outputId": "c13d7679-1ef6-4565-a8be-5738d9e2a069"
      },
      "execution_count": null,
      "outputs": [
        {
          "output_type": "stream",
          "name": "stdout",
          "text": [
            "rambo and dog and chennai\n"
          ]
        }
      ]
    },
    {
      "cell_type": "code",
      "source": [
        "from tabulate import tabulate\n",
        "# custom function for pretty print\n",
        "def pretty_print(title, df, n):\n",
        "   print(f\"\\n{title}:\")\n",
        "   print(tabulate(df.head(n), headers=\"keys\", tablefmt=\"psql\"))"
      ],
      "metadata": {
        "id": "cNhVvrqIY0vU"
      },
      "execution_count": null,
      "outputs": []
    },
    {
      "cell_type": "code",
      "source": [
        "num_person = 10\n",
        "print(f\"Type of num_person: {type(num_person)}\")"
      ],
      "metadata": {
        "colab": {
          "base_uri": "https://localhost:8080/"
        },
        "id": "EHYWfxtUa1t7",
        "outputId": "b88e461a-39ae-46f3-a0b3-95d41ae60102"
      },
      "execution_count": null,
      "outputs": [
        {
          "output_type": "stream",
          "name": "stdout",
          "text": [
            "Type of num_person: <class 'int'>\n"
          ]
        }
      ]
    },
    {
      "cell_type": "code",
      "source": [
        "age = 10\n",
        "name = \"dog\"\n",
        "if age == 10 and name == \"dog\": # conditional \"and\"\n",
        "\tprint(\"10\")\n",
        "elif age == 1 or age == 5: # conditional \"or\"\n",
        "\tprint(\"either 1 or 5\")\n",
        "else:\n",
        "      print(\"else\")"
      ],
      "metadata": {
        "colab": {
          "base_uri": "https://localhost:8080/"
        },
        "id": "8PRd3dqAeB-J",
        "outputId": "ed3459a6-5dc4-44f7-b7e0-9b2c6eecc2f5"
      },
      "execution_count": null,
      "outputs": [
        {
          "output_type": "stream",
          "name": "stdout",
          "text": [
            "10\n"
          ]
        }
      ]
    },
    {
      "cell_type": "code",
      "source": [
        "str_message = 'Life will be truly wonderful on a wonderful planet.'\n",
        "# returns index 19 (find the first occurrence starting from left side)\n",
        "print(str_message.find('wonderful'))\n",
        "# returns index 34 (find the first occurrence starting from right side)\n",
        "print(str_message.rfind('wonderful'))\n",
        "# returns index 19\n",
        "print(str_message.find('wonder'))\n",
        "# find index of \"wonder\" after index 20; returns index 34\n",
        "print(str_message.find('wonder', 20))"
      ],
      "metadata": {
        "colab": {
          "base_uri": "https://localhost:8080/"
        },
        "id": "xgBj35-LfkWg",
        "outputId": "89e47a02-060c-4e61-b660-8f8d129851d7"
      },
      "execution_count": null,
      "outputs": [
        {
          "output_type": "stream",
          "name": "stdout",
          "text": [
            "19\n",
            "34\n",
            "19\n",
            "34\n"
          ]
        }
      ]
    },
    {
      "cell_type": "code",
      "source": [
        "import random\n",
        "# generates a random number between 0 and 1\n",
        "random_num = random.random()\n",
        "print(random_num)"
      ],
      "metadata": {
        "colab": {
          "base_uri": "https://localhost:8080/"
        },
        "id": "Vp9kkq89f3Hi",
        "outputId": "5f4f33bb-57c6-4bf0-bbb6-a26811619e06"
      },
      "execution_count": null,
      "outputs": [
        {
          "output_type": "stream",
          "name": "stdout",
          "text": [
            "0.34536739860967947\n"
          ]
        }
      ]
    },
    {
      "cell_type": "code",
      "source": [
        "from random import randrange\n",
        "# approach 1: randomly generate a number between 0 and 10\n",
        "print(randrange(10))\n",
        "print(randrange(0, 10))\n",
        "# approach 2:  randomly generate a number between 0 and 10\n",
        "import random\n",
        "# randomly generate a number between 0 and 10 (includes 10)\n",
        "print(random.randint(10, 15))"
      ],
      "metadata": {
        "colab": {
          "base_uri": "https://localhost:8080/"
        },
        "id": "NgC4TlehgEoo",
        "outputId": "93613644-7b84-4568-9795-d7c37bbae26c"
      },
      "execution_count": null,
      "outputs": [
        {
          "output_type": "stream",
          "name": "stdout",
          "text": [
            "5\n",
            "2\n",
            "11\n"
          ]
        }
      ]
    },
    {
      "cell_type": "code",
      "source": [
        "import os\n",
        "# list all files in a directory\n",
        "lst_files = os.listdir(r\"C:\\Users\\Sakthi Ganesh\\Pictures\\Saved Pictures\")\n",
        "print(lst_files)"
      ],
      "metadata": {
        "colab": {
          "base_uri": "https://localhost:8080/",
          "height": 193
        },
        "id": "L7MTOu4Bga3p",
        "outputId": "59c71b05-9e4f-4f0f-eaaa-f4a873061540"
      },
      "execution_count": null,
      "outputs": [
        {
          "output_type": "error",
          "ename": "FileNotFoundError",
          "evalue": "[Errno 2] No such file or directory: 'C:\\\\Users\\\\Sakthi Ganesh\\\\Pictures\\\\Saved Pictures'",
          "traceback": [
            "\u001b[0;31m---------------------------------------------------------------------------\u001b[0m",
            "\u001b[0;31mFileNotFoundError\u001b[0m                         Traceback (most recent call last)",
            "\u001b[0;32m<ipython-input-61-78045aa66ccd>\u001b[0m in \u001b[0;36m<cell line: 3>\u001b[0;34m()\u001b[0m\n\u001b[1;32m      1\u001b[0m \u001b[0;32mimport\u001b[0m \u001b[0mos\u001b[0m\u001b[0;34m\u001b[0m\u001b[0;34m\u001b[0m\u001b[0m\n\u001b[1;32m      2\u001b[0m \u001b[0;31m# list all files in a directory\u001b[0m\u001b[0;34m\u001b[0m\u001b[0;34m\u001b[0m\u001b[0m\n\u001b[0;32m----> 3\u001b[0;31m \u001b[0mlst_files\u001b[0m \u001b[0;34m=\u001b[0m \u001b[0mos\u001b[0m\u001b[0;34m.\u001b[0m\u001b[0mlistdir\u001b[0m\u001b[0;34m(\u001b[0m\u001b[0;34mr\"C:\\Users\\Sakthi Ganesh\\Pictures\\Saved Pictures\"\u001b[0m\u001b[0;34m)\u001b[0m\u001b[0;34m\u001b[0m\u001b[0;34m\u001b[0m\u001b[0m\n\u001b[0m\u001b[1;32m      4\u001b[0m \u001b[0mprint\u001b[0m\u001b[0;34m(\u001b[0m\u001b[0mlst_files\u001b[0m\u001b[0;34m)\u001b[0m\u001b[0;34m\u001b[0m\u001b[0;34m\u001b[0m\u001b[0m\n",
            "\u001b[0;31mFileNotFoundError\u001b[0m: [Errno 2] No such file or directory: 'C:\\\\Users\\\\Sakthi Ganesh\\\\Pictures\\\\Saved Pictures'"
          ]
        }
      ]
    },
    {
      "cell_type": "code",
      "source": [
        "import json\n",
        "# dictionary data to convert as a JSON object\n",
        "dict_pets = {1: 'dog', 2: 'cat',\n",
        "            3: 'horse', 4: 'elephant',\n",
        "            5: 'tiger'}\n",
        "# prints \"dict\"\n",
        "print(type(dict_pets))\n",
        "# save as JSON object\n",
        "js_data = json.dumps(dict_pets)\n",
        "# prints \"dict\"\n",
        "print(type(dict_pets))\n",
        "# prints with \"\" for key-value (wrong json)\n",
        "print(dict_pets)\n",
        "# prints with \"\" for key-value (correct json)\n",
        "print(js_data)\n",
        "print(type(js_data))"
      ],
      "metadata": {
        "colab": {
          "base_uri": "https://localhost:8080/"
        },
        "id": "uVla6JTTh_o3",
        "outputId": "88f21090-b25f-44e2-cf84-0eee782b51fa"
      },
      "execution_count": null,
      "outputs": [
        {
          "output_type": "stream",
          "name": "stdout",
          "text": [
            "<class 'dict'>\n",
            "<class 'dict'>\n",
            "{1: 'dog', 2: 'cat', 3: 'horse', 4: 'elephant', 5: 'tiger'}\n",
            "{\"1\": \"dog\", \"2\": \"cat\", \"3\": \"horse\", \"4\": \"elephant\", \"5\": \"tiger\"}\n",
            "<class 'str'>\n"
          ]
        }
      ]
    },
    {
      "cell_type": "code",
      "source": [
        "salary = 10\n",
        "f_salary = float(salary)\n",
        "# float to int\n",
        "salary = 10.11\n",
        "# convert to integer\n",
        "i_salary = int(salary)\n",
        "print(f_salary)\n",
        "print(i_salary)"
      ],
      "metadata": {
        "colab": {
          "base_uri": "https://localhost:8080/"
        },
        "id": "GELIg0tiiVwZ",
        "outputId": "d3c99f84-dc48-4c5b-b978-f0c7a158d084"
      },
      "execution_count": null,
      "outputs": [
        {
          "output_type": "stream",
          "name": "stdout",
          "text": [
            "10.0\n",
            "10\n"
          ]
        }
      ]
    },
    {
      "cell_type": "code",
      "source": [
        "from dateutil import parser\n",
        "from datetime import datetime\n",
        "# approach 1\n",
        "dt = parser.parse(\"Jun 1 2021  1:11PM\")\n",
        "print(dt)\n",
        "# approach 2\n",
        "datetime_object = datetime.strptime('Jun 1 2021  1:11PM', '%b %d %Y %I:%M%p')\n",
        "print(datetime_object)"
      ],
      "metadata": {
        "colab": {
          "base_uri": "https://localhost:8080/"
        },
        "id": "G_DicdM-jsff",
        "outputId": "5584aa10-5452-45e2-c3f5-d231e383621c"
      },
      "execution_count": null,
      "outputs": [
        {
          "output_type": "stream",
          "name": "stdout",
          "text": [
            "2021-06-01 13:11:00\n",
            "2021-06-01 13:11:00\n"
          ]
        }
      ]
    },
    {
      "cell_type": "code",
      "source": [
        "def to_lowercase(in_str):\n",
        "   return str(in_str).lower()\n",
        "# text to be converted\n",
        "text = \"How are you?\"\n",
        "# convert string to lowercase\n",
        "text = to_lowercase(text)\n",
        "print(text)"
      ],
      "metadata": {
        "colab": {
          "base_uri": "https://localhost:8080/",
          "height": 315
        },
        "id": "wtdlFd9vk956",
        "outputId": "debb5410-01c6-4b18-fdbb-f80414e298c3"
      },
      "execution_count": null,
      "outputs": [
        {
          "output_type": "error",
          "ename": "TypeError",
          "evalue": "'str' object is not callable",
          "traceback": [
            "\u001b[0;31m---------------------------------------------------------------------------\u001b[0m",
            "\u001b[0;31mTypeError\u001b[0m                                 Traceback (most recent call last)",
            "\u001b[0;32m<ipython-input-76-8a3c31f09765>\u001b[0m in \u001b[0;36m<cell line: 6>\u001b[0;34m()\u001b[0m\n\u001b[1;32m      4\u001b[0m \u001b[0mtext\u001b[0m \u001b[0;34m=\u001b[0m \u001b[0;34m\"How are you?\"\u001b[0m\u001b[0;34m\u001b[0m\u001b[0;34m\u001b[0m\u001b[0m\n\u001b[1;32m      5\u001b[0m \u001b[0;31m# convert string to lowercase\u001b[0m\u001b[0;34m\u001b[0m\u001b[0;34m\u001b[0m\u001b[0m\n\u001b[0;32m----> 6\u001b[0;31m \u001b[0mtext\u001b[0m \u001b[0;34m=\u001b[0m \u001b[0mto_lowercase\u001b[0m\u001b[0;34m(\u001b[0m\u001b[0mtext\u001b[0m\u001b[0;34m)\u001b[0m\u001b[0;34m\u001b[0m\u001b[0;34m\u001b[0m\u001b[0m\n\u001b[0m\u001b[1;32m      7\u001b[0m \u001b[0mprint\u001b[0m\u001b[0;34m(\u001b[0m\u001b[0mtext\u001b[0m\u001b[0;34m)\u001b[0m\u001b[0;34m\u001b[0m\u001b[0;34m\u001b[0m\u001b[0m\n",
            "\u001b[0;32m<ipython-input-76-8a3c31f09765>\u001b[0m in \u001b[0;36mto_lowercase\u001b[0;34m(in_str)\u001b[0m\n\u001b[1;32m      1\u001b[0m \u001b[0;32mdef\u001b[0m \u001b[0mto_lowercase\u001b[0m\u001b[0;34m(\u001b[0m\u001b[0min_str\u001b[0m\u001b[0;34m)\u001b[0m\u001b[0;34m:\u001b[0m\u001b[0;34m\u001b[0m\u001b[0;34m\u001b[0m\u001b[0m\n\u001b[0;32m----> 2\u001b[0;31m    \u001b[0;32mreturn\u001b[0m \u001b[0mstr\u001b[0m\u001b[0;34m(\u001b[0m\u001b[0min_str\u001b[0m\u001b[0;34m)\u001b[0m\u001b[0;34m.\u001b[0m\u001b[0mlower\u001b[0m\u001b[0;34m(\u001b[0m\u001b[0;34m)\u001b[0m\u001b[0;34m\u001b[0m\u001b[0;34m\u001b[0m\u001b[0m\n\u001b[0m\u001b[1;32m      3\u001b[0m \u001b[0;31m# text to be converted\u001b[0m\u001b[0;34m\u001b[0m\u001b[0;34m\u001b[0m\u001b[0m\n\u001b[1;32m      4\u001b[0m \u001b[0mtext\u001b[0m \u001b[0;34m=\u001b[0m \u001b[0;34m\"How are you?\"\u001b[0m\u001b[0;34m\u001b[0m\u001b[0;34m\u001b[0m\u001b[0m\n\u001b[1;32m      5\u001b[0m \u001b[0;31m# convert string to lowercase\u001b[0m\u001b[0;34m\u001b[0m\u001b[0;34m\u001b[0m\u001b[0m\n",
            "\u001b[0;31mTypeError\u001b[0m: 'str' object is not callable"
          ]
        }
      ]
    },
    {
      "cell_type": "code",
      "source": [
        "def to_lowercase(in_str):\n",
        "   return in_str.lower()\n",
        "# text to be converted\n",
        "text = \"How are you?\"\n",
        "# convert string to lowercase\n",
        "text = to_lowercase(text)\n",
        "print(text)"
      ],
      "metadata": {
        "colab": {
          "base_uri": "https://localhost:8080/"
        },
        "id": "y2lGsbt1kSJ9",
        "outputId": "5e56717c-46f6-4875-a441-dbf9a7166323"
      },
      "execution_count": null,
      "outputs": [
        {
          "output_type": "stream",
          "name": "stdout",
          "text": [
            "how are you?\n"
          ]
        }
      ]
    },
    {
      "cell_type": "code",
      "source": [
        "text = \"This is first line \\n This is second line\"\n",
        "print(text)\n",
        "# replace new line with blank space\n",
        "text_clean = text.replace(\"\\n\", \"\")\n",
        "print(text_clean)"
      ],
      "metadata": {
        "colab": {
          "base_uri": "https://localhost:8080/"
        },
        "id": "IsTSkQ1flFtc",
        "outputId": "e19f8866-1962-4a6f-8c93-a379977eacc6"
      },
      "execution_count": null,
      "outputs": [
        {
          "output_type": "stream",
          "name": "stdout",
          "text": [
            "This is first line \n",
            " This is second line\n",
            "This is first line  This is second line\n"
          ]
        }
      ]
    },
    {
      "cell_type": "code",
      "source": [
        "import re\n",
        "in_str = \"Hi, Where are you from?\"\n",
        "str_clean = re.sub(r'\\W+', ' ', in_str)\n",
        "# prints -> Hi Where are you from\n",
        "print(str_clean)"
      ],
      "metadata": {
        "colab": {
          "base_uri": "https://localhost:8080/"
        },
        "id": "1c2Q_g8vlQkV",
        "outputId": "9cd9c178-144c-41f4-8c40-f903b85c9a09"
      },
      "execution_count": null,
      "outputs": [
        {
          "output_type": "stream",
          "name": "stdout",
          "text": [
            "Hi Where are you from \n"
          ]
        }
      ]
    },
    {
      "cell_type": "code",
      "source": [
        "# dictionary that helps to normalise\n",
        "dict_norm = {\"puppyhood\": \"dog\",\n",
        "         \t\"puppyish\": \"dog\",\n",
        "         \t\"puppylike\": \"dog\"\n",
        "        \t}\n",
        "# dictionary that needs transformation in its value\n",
        "dict_species = {\"caesar\": \"puppyhood\", \"ryan\": \"dog\", \"leela\": \"cat\"}\n",
        "# create new dictionary to hold the normalised output\n",
        "dict_species_norm = {}\n",
        "# iterate items in dict\n",
        "for key, value in dict_species.items():\n",
        "\t# if value exists in key of dict_norm\n",
        "\tif value in dict_norm.keys():\n",
        "    \t   dict_species_norm[key] = dict_norm[value]\n",
        "\telse:\n",
        "    \t   dict_species_norm[key] = value\n",
        "# prints -> {\"caesar\": \"dog\", \"ryan\": \"dog\", \"leela\": \"cat\"}\n",
        "print(dict_species_norm)"
      ],
      "metadata": {
        "colab": {
          "base_uri": "https://localhost:8080/"
        },
        "id": "2B4im56NlXrc",
        "outputId": "0d1adcc1-e458-46bf-f43e-143db9da2877"
      },
      "execution_count": null,
      "outputs": [
        {
          "output_type": "stream",
          "name": "stdout",
          "text": [
            "{'caesar': 'dog', 'ryan': 'dog', 'leela': 'cat'}\n"
          ]
        }
      ]
    },
    {
      "cell_type": "code",
      "source": [
        "import pandas as pd\n",
        "from tabulate import tabulate\n",
        "# first df\n",
        "df_1 = pd.DataFrame({'id': ['A01', 'A02', 'A03', 'A04'],\n",
        "                     'type': ['a', 'b', 'c', 'd'],\n",
        "                     'Name': ['Dog', 'Cat', 'Eagle', 'Peacock']})\n",
        "pretty_print(\"df_1:\", df_1,10)    #why this number\n",
        "# second df\n",
        "df_2 = pd.DataFrame({\n",
        "                   'id' : ['A01', 'A06', 'A02', 'A07'],\n",
        "                   'type': ['a', 'b', 'c', 'd'],\n",
        "                   'City': ['SFO', 'Chennai', 'NYC', 'Bangalore'],\n",
        "                   'Age': ['12', '13', '14', '12']})\n",
        "pretty_print(\"df_2:\", df_2, 10)\n",
        "# outer join => outputs all rows from both dataframes\n",
        "df_new = pd.merge(df_1, df_2, on='id', how='outer')\n",
        "pretty_print(\"merged outer:\", df_new, 10)\n",
        "# inner join (equi join) => outputs common intersect\n",
        "df_new = pd.merge(df_1, df_2, on='id', how='inner')\n",
        "pretty_print(\"merged inner:\", df_new, 10)\n",
        "\n",
        "# different column name\n",
        "df_new = pd.merge(df_1, df_2, left_on='id', right_on='id', how='outer')\n",
        "print(df_new)"
      ],
      "metadata": {
        "colab": {
          "base_uri": "https://localhost:8080/"
        },
        "id": "_4hxH2jFltfX",
        "outputId": "b0f47496-6eea-41fa-bd61-ba01047d36bf"
      },
      "execution_count": null,
      "outputs": [
        {
          "output_type": "stream",
          "name": "stdout",
          "text": [
            "\n",
            "df_1::\n",
            "+----+------+--------+---------+\n",
            "|    | id   | type   | Name    |\n",
            "|----+------+--------+---------|\n",
            "|  0 | A01  | a      | Dog     |\n",
            "|  1 | A02  | b      | Cat     |\n",
            "|  2 | A03  | c      | Eagle   |\n",
            "|  3 | A04  | d      | Peacock |\n",
            "+----+------+--------+---------+\n",
            "\n",
            "df_2::\n",
            "+----+------+--------+-----------+-------+\n",
            "|    | id   | type   | City      |   Age |\n",
            "|----+------+--------+-----------+-------|\n",
            "|  0 | A01  | a      | SFO       |    12 |\n",
            "|  1 | A06  | b      | Chennai   |    13 |\n",
            "|  2 | A02  | c      | NYC       |    14 |\n",
            "|  3 | A07  | d      | Bangalore |    12 |\n",
            "+----+------+--------+-----------+-------+\n",
            "\n",
            "merged outer::\n",
            "+----+------+----------+---------+----------+-----------+-------+\n",
            "|    | id   | type_x   | Name    | type_y   | City      |   Age |\n",
            "|----+------+----------+---------+----------+-----------+-------|\n",
            "|  0 | A01  | a        | Dog     | a        | SFO       |    12 |\n",
            "|  1 | A02  | b        | Cat     | c        | NYC       |    14 |\n",
            "|  2 | A03  | c        | Eagle   | nan      | nan       |   nan |\n",
            "|  3 | A04  | d        | Peacock | nan      | nan       |   nan |\n",
            "|  4 | A06  | nan      | nan     | b        | Chennai   |    13 |\n",
            "|  5 | A07  | nan      | nan     | d        | Bangalore |    12 |\n",
            "+----+------+----------+---------+----------+-----------+-------+\n",
            "\n",
            "merged inner::\n",
            "+----+------+----------+--------+----------+--------+-------+\n",
            "|    | id   | type_x   | Name   | type_y   | City   |   Age |\n",
            "|----+------+----------+--------+----------+--------+-------|\n",
            "|  0 | A01  | a        | Dog    | a        | SFO    |    12 |\n",
            "|  1 | A02  | b        | Cat    | c        | NYC    |    14 |\n",
            "+----+------+----------+--------+----------+--------+-------+\n",
            "    id type_x     Name type_y       City  Age\n",
            "0  A01      a      Dog      a        SFO   12\n",
            "1  A02      b      Cat      c        NYC   14\n",
            "2  A03      c    Eagle    NaN        NaN  NaN\n",
            "3  A04      d  Peacock    NaN        NaN  NaN\n",
            "4  A06    NaN      NaN      b    Chennai   13\n",
            "5  A07    NaN      NaN      d  Bangalore   12\n"
          ]
        }
      ]
    },
    {
      "cell_type": "code",
      "source": [
        "import pandas as pd\n",
        "from tabulate import tabulate\n",
        "# first df\n",
        "df_1 = pd.DataFrame({'id': ['A01', 'A02', 'A03', 'A04'],\n",
        "                   'Name': ['Dog', 'Cat', 'Eagle', 'Peacock']\n",
        "                    })\n",
        "pretty_print(\"df_1:\", df_1, 10)\n",
        "# second df\n",
        "df_2 = pd.DataFrame({\n",
        "                   'id' : ['A01', 'A06', 'A02', 'A07'],\n",
        "                   'City': ['SFO', 'Chennai', 'NYC', 'Bangalore'],\n",
        "                   'Age': ['12', '13', '14', '12']})\n",
        "pretty_print(\"df_2:\", df_2, 10)\n",
        "# LEFT JOIN => takes all the values from df1, if it exists on the df2 puts it values, otherwise nan\n",
        "df_new = df_1.merge(df_2, left_on=['id'], right_on = ['id'], how='left')\n",
        "pretty_print(\"left join:\", df_new, 10)\n",
        "# find rows in df2 which are not in df1\n",
        "df_na = df_new[df_new[\"City\"].isna()]\n",
        "pretty_print(\"rows in df2 which are not in df1:\", df_na, 10)"
      ],
      "metadata": {
        "colab": {
          "base_uri": "https://localhost:8080/"
        },
        "id": "FbBTWfpqqRGP",
        "outputId": "1c1d05fd-bd7f-4de9-e8eb-70abfc0c45d1"
      },
      "execution_count": null,
      "outputs": [
        {
          "output_type": "stream",
          "name": "stdout",
          "text": [
            "\n",
            "df_1::\n",
            "+----+------+---------+\n",
            "|    | id   | Name    |\n",
            "|----+------+---------|\n",
            "|  0 | A01  | Dog     |\n",
            "|  1 | A02  | Cat     |\n",
            "|  2 | A03  | Eagle   |\n",
            "|  3 | A04  | Peacock |\n",
            "+----+------+---------+\n",
            "\n",
            "df_2::\n",
            "+----+------+-----------+-------+\n",
            "|    | id   | City      |   Age |\n",
            "|----+------+-----------+-------|\n",
            "|  0 | A01  | SFO       |    12 |\n",
            "|  1 | A06  | Chennai   |    13 |\n",
            "|  2 | A02  | NYC       |    14 |\n",
            "|  3 | A07  | Bangalore |    12 |\n",
            "+----+------+-----------+-------+\n",
            "\n",
            "left join::\n",
            "+----+------+---------+--------+-------+\n",
            "|    | id   | Name    | City   |   Age |\n",
            "|----+------+---------+--------+-------|\n",
            "|  0 | A01  | Dog     | SFO    |    12 |\n",
            "|  1 | A02  | Cat     | NYC    |    14 |\n",
            "|  2 | A03  | Eagle   | nan    |   nan |\n",
            "|  3 | A04  | Peacock | nan    |   nan |\n",
            "+----+------+---------+--------+-------+\n",
            "\n",
            "rows in df2 which are not in df1::\n",
            "+----+------+---------+--------+-------+\n",
            "|    | id   | Name    |   City |   Age |\n",
            "|----+------+---------+--------+-------|\n",
            "|  2 | A03  | Eagle   |    nan |   nan |\n",
            "|  3 | A04  | Peacock |    nan |   nan |\n",
            "+----+------+---------+--------+-------+\n"
          ]
        }
      ]
    }
  ]
}